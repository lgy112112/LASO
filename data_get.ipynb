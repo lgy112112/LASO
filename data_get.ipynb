{
 "cells": [
  {
   "cell_type": "code",
   "execution_count": 3,
   "metadata": {},
   "outputs": [
    {
     "name": "stdout",
     "output_type": "stream",
     "text": [
      "--2024-09-25 10:33:34--  https://drive.usercontent.google.com/download?id=1P4CwQeSALtUOgzhg1ILCiKovE-tcXlSu&export=download&authuser=0&confirm=t&uuid=f3028678-a92c-4803-ae9c-d430ea599e90&at=AO7h07dFC4dx3LmjcqwpntBLk0RL%3A1727260349312\n",
      "Resolving drive.usercontent.google.com (drive.usercontent.google.com)... 172.253.63.132, 2607:f8b0:4004:c06::84\n",
      "Connecting to drive.usercontent.google.com (drive.usercontent.google.com)|172.253.63.132|:443... connected.\n",
      "HTTP request sent, awaiting response... 200 OK\n",
      "Length: 249921192 (238M) [application/octet-stream]\n",
      "Saving to: ‘LASO_dataset.tar.gz’\n",
      "\n",
      "LASO_dataset.tar.gz 100%[===================>] 238.34M  40.2MB/s    in 6.1s    \n",
      "\n",
      "2024-09-25 10:33:42 (39.0 MB/s) - ‘LASO_dataset.tar.gz’ saved [249921192/249921192]\n",
      "\n"
     ]
    }
   ],
   "source": [
    "!wget -O LASO_dataset.tar.gz \"https://drive.usercontent.google.com/download?id=1P4CwQeSALtUOgzhg1ILCiKovE-tcXlSu&export=download&authuser=0&confirm=t&uuid=f3028678-a92c-4803-ae9c-d430ea599e90&at=AO7h07dFC4dx3LmjcqwpntBLk0RL%3A1727260349312\""
   ]
  },
  {
   "cell_type": "code",
   "execution_count": 1,
   "metadata": {},
   "outputs": [],
   "source": [
    "!tar -xzf LASO_dataset.tar.gz"
   ]
  }
 ],
 "metadata": {
  "language_info": {
   "name": "python"
  }
 },
 "nbformat": 4,
 "nbformat_minor": 2
}
